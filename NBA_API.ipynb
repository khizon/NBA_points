{
  "nbformat": 4,
  "nbformat_minor": 0,
  "metadata": {
    "colab": {
      "provenance": [],
      "mount_file_id": "1Nd3kY6nwhGVgBpyOzORxLKM5xQBg3eG0",
      "authorship_tag": "ABX9TyNgAHxriR5Yx5zh2hrGe2hh",
      "include_colab_link": true
    },
    "kernelspec": {
      "name": "python3",
      "display_name": "Python 3"
    },
    "language_info": {
      "name": "python"
    }
  },
  "cells": [
    {
      "cell_type": "markdown",
      "metadata": {
        "id": "view-in-github",
        "colab_type": "text"
      },
      "source": [
        "<a href=\"https://colab.research.google.com/github/khizon/NBA_points/blob/main/NBA_API.ipynb\" target=\"_parent\"><img src=\"https://colab.research.google.com/assets/colab-badge.svg\" alt=\"Open In Colab\"/></a>"
      ]
    },
    {
      "cell_type": "markdown",
      "source": [
        "# **Using NBA's Stats API to collect shot data**"
      ],
      "metadata": {
        "id": "GxCvVXIY-YHY"
      }
    },
    {
      "cell_type": "code",
      "execution_count": null,
      "metadata": {
        "colab": {
          "base_uri": "https://localhost:8080/"
        },
        "id": "fLCT2mHZYsiD",
        "outputId": "f8a87b52-5296-4592-b65d-4a553817621d"
      },
      "outputs": [
        {
          "output_type": "stream",
          "name": "stdout",
          "text": [
            "\u001b[2K     \u001b[90m━━━━━━━━━━━━━━━━━━━━━━━━━━━━━━━━━━━━━━\u001b[0m \u001b[32m254.9/254.9 KB\u001b[0m \u001b[31m13.9 MB/s\u001b[0m eta \u001b[36m0:00:00\u001b[0m\n",
            "\u001b[2K     \u001b[90m━━━━━━━━━━━━━━━━━━━━━━━━━━━━━━━━━━━━━━━━\u001b[0m \u001b[32m17.3/17.3 MB\u001b[0m \u001b[31m56.1 MB/s\u001b[0m eta \u001b[36m0:00:00\u001b[0m\n",
            "\u001b[?25h\u001b[31mERROR: pip's dependency resolver does not currently take into account all the packages that are installed. This behaviour is the source of the following dependency conflicts.\n",
            "scipy 1.7.3 requires numpy<1.23.0,>=1.16.5, but you have numpy 1.24.2 which is incompatible.\n",
            "numba 0.56.4 requires numpy<1.24,>=1.18, but you have numpy 1.24.2 which is incompatible.\u001b[0m\u001b[31m\n",
            "\u001b[0m"
          ]
        }
      ],
      "source": [
        "!pip install nba_api --q"
      ]
    },
    {
      "cell_type": "code",
      "source": [
        "# Import packages\n",
        "from nba_api.stats.endpoints import shotchartdetail\n",
        "import json\n",
        "import requests\n",
        "import pandas as pd\n",
        "import matplotlib as mpl\n",
        "import matplotlib.pyplot as plt\n",
        "\n",
        "import time\n",
        "\n",
        "plt.style.use('seaborn-darkgrid')"
      ],
      "metadata": {
        "id": "X2FE27_zZBIu"
      },
      "execution_count": null,
      "outputs": []
    },
    {
      "cell_type": "code",
      "source": [
        "# Load teams file\n",
        "teams = pd.DataFrame(json.loads(requests.get('https://raw.githubusercontent.com/bttmly/nba/master/data/teams.json').text))\n",
        "# Load players file\n",
        "players = pd.DataFrame(json.loads(requests.get('https://raw.githubusercontent.com/bttmly/nba/master/data/players.json').text))"
      ],
      "metadata": {
        "id": "zx0KeAzTZF3q"
      },
      "execution_count": null,
      "outputs": []
    },
    {
      "cell_type": "code",
      "source": [
        "# Get team ID based on team name\n",
        "def get_team_id(team_abbreviation):\n",
        "  try:\n",
        "    return teams.loc[teams.abbreviation==team_abbreviation, 'teamId'].values[0]\n",
        "  except:\n",
        "    print(f'{team_abbreviation} is not an NBA Team')\n",
        "    return -1\n",
        "  \n",
        "# Get player ID based on player name\n",
        "def get_player_id(first, last):\n",
        "  try:\n",
        "    return players.loc[(players.firstName == first) & (players.lastName == last), 'playerId'].values[0]\n",
        "  except:\n",
        "    print(f'{first} {last} is not an NBA Player')\n",
        "    return -1\n",
        "\n",
        "# JSON to Df\n",
        "def json_to_df(shot_json):\n",
        "  # Load data into a Python dictionary\n",
        "  shot_data = json.loads(shot_json.get_json())\n",
        "  # Get the relevant data from our dictionary\n",
        "  relevant_data = shot_data['resultSets'][0]\n",
        "  # Get the headers and row data\n",
        "  headers = relevant_data['headers']\n",
        "  rows = relevant_data['rowSet']\n",
        "  # Create pandas DataFrame\n",
        "  df = pd.DataFrame(rows)\n",
        "  df.columns = headers\n",
        "  return df"
      ],
      "metadata": {
        "id": "fZxG9DeAZIgo"
      },
      "execution_count": null,
      "outputs": []
    },
    {
      "cell_type": "code",
      "source": [
        "season = 2003\n",
        "\n",
        "while season < 2023:\n",
        "  if (season < 2010) | ((season >= 2014) & (season < 2018)):\n",
        "    team = 'CLE'\n",
        "  elif ((season>=2010) & (season<2014)):\n",
        "    team = 'MIA'\n",
        "  else:\n",
        "    team = 'LAL'\n",
        "  f_season = f'{season}-{(season+1)%100:02d}'\n",
        "  print(f'{f_season} {team}')\n",
        "  # Create JSON request\n",
        "  shot_json = shotchartdetail.ShotChartDetail(\n",
        "              team_id = get_team_id(team),\n",
        "              player_id = get_player_id('LeBron', 'James'),\n",
        "              context_measure_simple = 'PTS',\n",
        "              season_nullable = f_season,\n",
        "              season_type_all_star = 'Regular Season',\n",
        "            )\n",
        "  if season == 2003:\n",
        "    df = json_to_df(shot_json)\n",
        "  else:\n",
        "    df = df.append(json_to_df(shot_json))\n",
        "  season+=1\n",
        "  time.sleep(10) # Added some delay between API calls just in case.\n",
        "\n",
        "df.shape"
      ],
      "metadata": {
        "id": "QQBQoIR1rB5h"
      },
      "execution_count": null,
      "outputs": []
    },
    {
      "cell_type": "code",
      "source": [
        "df = df.reset_index()\n",
        "df = df.drop(['level_0', 'index'], axis=1)\n",
        "df.to_csv('/content/drive/MyDrive/Colab_Notebooks/lebron_shots.csv')"
      ],
      "metadata": {
        "id": "vg5wEH8Jy_rl"
      },
      "execution_count": null,
      "outputs": []
    }
  ]
}